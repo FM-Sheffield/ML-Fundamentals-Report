{
 "cells": [
  {
   "cell_type": "markdown",
   "metadata": {},
   "source": [
    "#                     Fundamentals of Machine Learning - 2022\n",
    "#                     Report 2 - Classifying with convnets - Testing\n",
    "###                          Facundo Sheffield"
   ]
  },
  {
   "cell_type": "markdown",
   "metadata": {},
   "source": [
    "Now that we have our three models trained, we can test them and see how they perform. We will use the test set that we created in the previous notebook."
   ]
  },
  {
   "cell_type": "code",
   "execution_count": 1,
   "metadata": {},
   "outputs": [],
   "source": [
    "import pandas as pd\n",
    "import numpy as np\n",
    "import matplotlib.pyplot as plt\n",
    "import pickle"
   ]
  },
  {
   "cell_type": "code",
   "execution_count": 2,
   "metadata": {},
   "outputs": [],
   "source": [
    "# Lets load the faces_dict.p file:\n",
    "with open('faces_dict.p', 'rb') as f:\n",
    "    faces_dict = pickle.load(f)"
   ]
  },
  {
   "cell_type": "code",
   "execution_count": 3,
   "metadata": {},
   "outputs": [],
   "source": [
    "# lets add one channel at the end of the image:\n",
    "\n",
    "new_val = []\n",
    "for image in faces_dict['images']:\n",
    "    new_val.append(np.expand_dims(image, axis=2))\n",
    "\n",
    "faces_dict.update({'images': np.array(new_val)})"
   ]
  },
  {
   "cell_type": "code",
   "execution_count": 4,
   "metadata": {},
   "outputs": [
    {
     "name": "stdout",
     "output_type": "stream",
     "text": [
      "Training, validation and test data: 220, 80, 100\n"
     ]
    }
   ],
   "source": [
    "# Lets start by separating into train, test and validation\n",
    "\n",
    "from sklearn.model_selection import train_test_split\n",
    "Full_X_train, X_test, Full_y_train, y_test = train_test_split(faces_dict['images'], faces_dict['target'], test_size=100, random_state=42, stratify=faces_dict['target'])\n",
    "X_train, X_val, y_train, y_val = train_test_split(Full_X_train, Full_y_train, test_size=80, random_state=42, stratify=Full_y_train)\n",
    "\n",
    "print(f\"Training, validation and test data: {len(X_train)}, {len(X_val)}, {len(X_test)}\")"
   ]
  },
  {
   "cell_type": "code",
   "execution_count": 5,
   "metadata": {},
   "outputs": [],
   "source": [
    "X_test_RF = X_test.reshape(X_test.shape[0], -1)  # test data for random forest"
   ]
  },
  {
   "cell_type": "markdown",
   "metadata": {},
   "source": [
    "Now we can test our Baseline and our CNN. Lets import our models."
   ]
  },
  {
   "cell_type": "code",
   "execution_count": 13,
   "metadata": {},
   "outputs": [],
   "source": [
    "# lets import our models:\n",
    "\n",
    "import pickle\n",
    "from keras import models\n",
    "\n",
    "with open('RandomForest.pkl', 'rb') as f:\n",
    "    RF_model = pickle.load(f)\n",
    "\n",
    "CNN_model = models.load_model('CNN_model.h5')\n",
    "VGG_model = models.load_model('TransferLearning_model.h5')\n"
   ]
  },
  {
   "cell_type": "markdown",
   "metadata": {},
   "source": [
    "Now lets predict the labels for the test set."
   ]
  },
  {
   "cell_type": "code",
   "execution_count": 7,
   "metadata": {},
   "outputs": [
    {
     "name": "stdout",
     "output_type": "stream",
     "text": [
      "Random Forest accuracy:  0.95\n",
      "4/4 [==============================] - 1s 19ms/step - loss: 0.0479 - accuracy: 0.9700\n"
     ]
    },
    {
     "data": {
      "text/plain": [
       "[0.04789689555764198, 0.9700000286102295]"
      ]
     },
     "execution_count": 7,
     "metadata": {},
     "output_type": "execute_result"
    }
   ],
   "source": [
    "from sklearn.metrics import accuracy_score\n",
    "\n",
    "y_pred_RF = RF_model.predict(X_test_RF)  # predict the test data\n",
    "print(\"Random Forest accuracy: \",accuracy_score(y_test, y_pred_RF))  # prints the accuracy\n",
    "\n",
    "CNN_model.evaluate(X_test, y_test)  # prints the accuracy"
   ]
  },
  {
   "cell_type": "code",
   "execution_count": 14,
   "metadata": {},
   "outputs": [
    {
     "name": "stdout",
     "output_type": "stream",
     "text": [
      "4/4 [==============================] - 2s 301ms/step - loss: 0.2551 - accuracy: 0.9600\n"
     ]
    },
    {
     "data": {
      "text/plain": [
       "[0.25506657361984253, 0.9599999785423279]"
      ]
     },
     "execution_count": 14,
     "metadata": {},
     "output_type": "execute_result"
    }
   ],
   "source": [
    "VGG_model.evaluate(X_test, y_test)  # prints the accuracy"
   ]
  },
  {
   "cell_type": "markdown",
   "metadata": {},
   "source": [
    "Interesting! We can see that our VGG16 model does not perform as well as our CNN. But both end up performing better than our Baseline. I suspect that the difference in accuracy is probably due to the difference in the number of free parameters in each model. After all even though our VGG has 3 times less free parameters, it still managed to get quite close to our CNN. Maybe the results could have been better if we had changed the optimizer, or the learning rate of the network. And I still would like to know what would have happend with a VGG16 network fully trained on grayscale. But for now, we will leave things as they are."
   ]
  },
  {
   "cell_type": "markdown",
   "metadata": {},
   "source": [
    "### Conclusions\n",
    "\n",
    "We managed to obtain three different ML models in order to tackle an image classification problem. Our baseline model, based on Random Forest, performed quite well, but it was outperformed by our CNN and our VGG16 models. In all cases we tried to use data augmentation when possible, and this technique gave worse results for our classical model. Regarding the VGG16 model, we managed to properly incorporate a pretrained model and use it as a solution to our problem. Having said that, the best model was our CNN, which was trained from scratch. This may have been due to the number of free parameters, but further testing would need to be done to be sure."
   ]
  }
 ],
 "metadata": {
  "kernelspec": {
   "display_name": "Python 3.10.4 ('ML-env')",
   "language": "python",
   "name": "python3"
  },
  "language_info": {
   "codemirror_mode": {
    "name": "ipython",
    "version": 3
   },
   "file_extension": ".py",
   "mimetype": "text/x-python",
   "name": "python",
   "nbconvert_exporter": "python",
   "pygments_lexer": "ipython3",
   "version": "3.10.4"
  },
  "orig_nbformat": 4,
  "vscode": {
   "interpreter": {
    "hash": "aee5220c283761933371d073647765630462983584c63ded459ca3e8caa004ea"
   }
  }
 },
 "nbformat": 4,
 "nbformat_minor": 2
}
